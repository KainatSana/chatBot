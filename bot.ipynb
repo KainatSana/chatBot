{
  "nbformat": 4,
  "nbformat_minor": 0,
  "metadata": {
    "colab": {
      "name": "Untitled0.ipynb",
      "provenance": [],
      "collapsed_sections": []
    },
    "kernelspec": {
      "name": "python3",
      "display_name": "Python 3"
    },
    "language_info": {
      "name": "python"
    }
  },
  "cells": [
    {
      "cell_type": "code",
      "metadata": {
        "id": "3WCVucqHTW8z"
      },
      "source": [
        "\"chat Bot\""
      ],
      "execution_count": null,
      "outputs": []
    },
    {
      "cell_type": "code",
      "metadata": {
        "colab": {
          "base_uri": "https://localhost:8080/"
        },
        "id": "iqDOlqQKTnTO",
        "outputId": "a28640d1-3608-40fc-e801-bb3752446b03"
      },
      "source": [
        "pip install nltk"
      ],
      "execution_count": 1,
      "outputs": [
        {
          "output_type": "stream",
          "text": [
            "Requirement already satisfied: nltk in /usr/local/lib/python3.7/dist-packages (3.2.5)\n",
            "Requirement already satisfied: six in /usr/local/lib/python3.7/dist-packages (from nltk) (1.15.0)\n"
          ],
          "name": "stdout"
        }
      ]
    },
    {
      "cell_type": "code",
      "metadata": {
        "colab": {
          "base_uri": "https://localhost:8080/"
        },
        "id": "_330o66UT0OD",
        "outputId": "ac0cd511-d1ef-478a-d574-a927e8f6b527"
      },
      "source": [
        "pip install newspaper3k"
      ],
      "execution_count": 2,
      "outputs": [
        {
          "output_type": "stream",
          "text": [
            "Collecting newspaper3k\n",
            "\u001b[?25l  Downloading https://files.pythonhosted.org/packages/d7/b9/51afecb35bb61b188a4b44868001de348a0e8134b4dfa00ffc191567c4b9/newspaper3k-0.2.8-py3-none-any.whl (211kB)\n",
            "\u001b[K     |████████████████████████████████| 215kB 3.8MB/s \n",
            "\u001b[?25hRequirement already satisfied: lxml>=3.6.0 in /usr/local/lib/python3.7/dist-packages (from newspaper3k) (4.2.6)\n",
            "Collecting tldextract>=2.0.1\n",
            "\u001b[?25l  Downloading https://files.pythonhosted.org/packages/7e/62/b6acd3129c5615b9860e670df07fd55b76175b63e6b7f68282c7cad38e9e/tldextract-3.1.0-py2.py3-none-any.whl (87kB)\n",
            "\u001b[K     |████████████████████████████████| 92kB 7.1MB/s \n",
            "\u001b[?25hCollecting feedparser>=5.2.1\n",
            "\u001b[?25l  Downloading https://files.pythonhosted.org/packages/1c/21/faf1bac028662cc8adb2b5ef7a6f3999a765baa2835331df365289b0ca56/feedparser-6.0.2-py3-none-any.whl (80kB)\n",
            "\u001b[K     |████████████████████████████████| 81kB 7.3MB/s \n",
            "\u001b[?25hCollecting jieba3k>=0.35.1\n",
            "\u001b[?25l  Downloading https://files.pythonhosted.org/packages/a9/cb/2c8332bcdc14d33b0bedd18ae0a4981a069c3513e445120da3c3f23a8aaa/jieba3k-0.35.1.zip (7.4MB)\n",
            "\u001b[K     |████████████████████████████████| 7.4MB 14.5MB/s \n",
            "\u001b[?25hCollecting cssselect>=0.9.2\n",
            "  Downloading https://files.pythonhosted.org/packages/3b/d4/3b5c17f00cce85b9a1e6f91096e1cc8e8ede2e1be8e96b87ce1ed09e92c5/cssselect-1.1.0-py2.py3-none-any.whl\n",
            "Requirement already satisfied: python-dateutil>=2.5.3 in /usr/local/lib/python3.7/dist-packages (from newspaper3k) (2.8.1)\n",
            "Collecting tinysegmenter==0.3\n",
            "  Downloading https://files.pythonhosted.org/packages/17/82/86982e4b6d16e4febc79c2a1d68ee3b707e8a020c5d2bc4af8052d0f136a/tinysegmenter-0.3.tar.gz\n",
            "Requirement already satisfied: beautifulsoup4>=4.4.1 in /usr/local/lib/python3.7/dist-packages (from newspaper3k) (4.6.3)\n",
            "Requirement already satisfied: PyYAML>=3.11 in /usr/local/lib/python3.7/dist-packages (from newspaper3k) (3.13)\n",
            "Requirement already satisfied: nltk>=3.2.1 in /usr/local/lib/python3.7/dist-packages (from newspaper3k) (3.2.5)\n",
            "Collecting feedfinder2>=0.0.4\n",
            "  Downloading https://files.pythonhosted.org/packages/35/82/1251fefec3bb4b03fd966c7e7f7a41c9fc2bb00d823a34c13f847fd61406/feedfinder2-0.0.4.tar.gz\n",
            "Requirement already satisfied: Pillow>=3.3.0 in /usr/local/lib/python3.7/dist-packages (from newspaper3k) (7.1.2)\n",
            "Requirement already satisfied: requests>=2.10.0 in /usr/local/lib/python3.7/dist-packages (from newspaper3k) (2.23.0)\n",
            "Requirement already satisfied: filelock>=3.0.8 in /usr/local/lib/python3.7/dist-packages (from tldextract>=2.0.1->newspaper3k) (3.0.12)\n",
            "Collecting requests-file>=1.4\n",
            "  Downloading https://files.pythonhosted.org/packages/77/86/cdb5e8eaed90796aa83a6d9f75cfbd37af553c47a291cd47bc410ef9bdb2/requests_file-1.5.1-py2.py3-none-any.whl\n",
            "Requirement already satisfied: idna in /usr/local/lib/python3.7/dist-packages (from tldextract>=2.0.1->newspaper3k) (2.10)\n",
            "Collecting sgmllib3k\n",
            "  Downloading https://files.pythonhosted.org/packages/9e/bd/3704a8c3e0942d711c1299ebf7b9091930adae6675d7c8f476a7ce48653c/sgmllib3k-1.0.0.tar.gz\n",
            "Requirement already satisfied: six>=1.5 in /usr/local/lib/python3.7/dist-packages (from python-dateutil>=2.5.3->newspaper3k) (1.15.0)\n",
            "Requirement already satisfied: certifi>=2017.4.17 in /usr/local/lib/python3.7/dist-packages (from requests>=2.10.0->newspaper3k) (2020.12.5)\n",
            "Requirement already satisfied: chardet<4,>=3.0.2 in /usr/local/lib/python3.7/dist-packages (from requests>=2.10.0->newspaper3k) (3.0.4)\n",
            "Requirement already satisfied: urllib3!=1.25.0,!=1.25.1,<1.26,>=1.21.1 in /usr/local/lib/python3.7/dist-packages (from requests>=2.10.0->newspaper3k) (1.24.3)\n",
            "Building wheels for collected packages: jieba3k, tinysegmenter, feedfinder2, sgmllib3k\n",
            "  Building wheel for jieba3k (setup.py) ... \u001b[?25l\u001b[?25hdone\n",
            "  Created wheel for jieba3k: filename=jieba3k-0.35.1-cp37-none-any.whl size=7398406 sha256=7284660d29a36e7f9cf2df575c5fda9ad993664cf372b318ba8f77c4c5118d67\n",
            "  Stored in directory: /root/.cache/pip/wheels/83/15/9c/a3f1f67e7f7181170ad37d32e503c35da20627c013f438ed34\n",
            "  Building wheel for tinysegmenter (setup.py) ... \u001b[?25l\u001b[?25hdone\n",
            "  Created wheel for tinysegmenter: filename=tinysegmenter-0.3-cp37-none-any.whl size=13538 sha256=f14de3bff51fa07dd8e74b3ff8a06697ba2ddf69f7132bedd11c24bcf7c221af\n",
            "  Stored in directory: /root/.cache/pip/wheels/81/2b/43/a02ede72324dd40cdd7ca53aad718c7710628e91b8b0dc0f02\n",
            "  Building wheel for feedfinder2 (setup.py) ... \u001b[?25l\u001b[?25hdone\n",
            "  Created wheel for feedfinder2: filename=feedfinder2-0.0.4-cp37-none-any.whl size=3358 sha256=575b18b8511f51b230883a0c984db999e5d3d7ce7ff1d6c08ea6db71952d4241\n",
            "  Stored in directory: /root/.cache/pip/wheels/de/03/ca/778e3a7a627e3d98836cc890e7cb40c7575424cfd3340f40ed\n",
            "  Building wheel for sgmllib3k (setup.py) ... \u001b[?25l\u001b[?25hdone\n",
            "  Created wheel for sgmllib3k: filename=sgmllib3k-1.0.0-cp37-none-any.whl size=6067 sha256=1f7b7299a1de167d2c4c05bafff02bbb3d91765daa8f9425bda59cc020c5079a\n",
            "  Stored in directory: /root/.cache/pip/wheels/f1/80/5a/444ba08a550cdd241bd9baf8bae44be750efe370adb944506a\n",
            "Successfully built jieba3k tinysegmenter feedfinder2 sgmllib3k\n",
            "Installing collected packages: requests-file, tldextract, sgmllib3k, feedparser, jieba3k, cssselect, tinysegmenter, feedfinder2, newspaper3k\n",
            "Successfully installed cssselect-1.1.0 feedfinder2-0.0.4 feedparser-6.0.2 jieba3k-0.35.1 newspaper3k-0.2.8 requests-file-1.5.1 sgmllib3k-1.0.0 tinysegmenter-0.3 tldextract-3.1.0\n"
          ],
          "name": "stdout"
        }
      ]
    },
    {
      "cell_type": "code",
      "metadata": {
        "id": "32Ld0hIgUBq6"
      },
      "source": [
        "#import\n",
        "from newspaper import Article\n",
        "import random\n",
        "import string\n",
        "import nltk\n",
        "from sklearn.feature_extraction.text import CountVectorizer\n",
        "from sklearn.metrics.pairwise import cosine_similarity\n",
        "import numpy as np\n",
        "import warnings\n",
        "warnings.filterwarnings('ignore')"
      ],
      "execution_count": 6,
      "outputs": []
    },
    {
      "cell_type": "code",
      "metadata": {
        "colab": {
          "base_uri": "https://localhost:8080/"
        },
        "id": "9jHIsOf2WBK9",
        "outputId": "9cb2cec9-98fa-43d3-fbc1-9aa4c21d6725"
      },
      "source": [
        "# Download punkt package\n",
        "nltk.download('punkt',quiet=True)"
      ],
      "execution_count": 8,
      "outputs": [
        {
          "output_type": "execute_result",
          "data": {
            "text/plain": [
              "True"
            ]
          },
          "metadata": {
            "tags": []
          },
          "execution_count": 8
        }
      ]
    },
    {
      "cell_type": "code",
      "metadata": {
        "id": "h--sQGbzWbhd"
      },
      "source": [
        "#Get the article\n",
        "article=Article('https://www.mayoclinic.org/diseases-conditions/coronavirus/symptoms-causes/syc-20479963')\n",
        "article.download()\n",
        "article.parse()\n",
        "article.nlp\n",
        "corpus=article.text"
      ],
      "execution_count": 15,
      "outputs": []
    },
    {
      "cell_type": "code",
      "metadata": {
        "colab": {
          "base_uri": "https://localhost:8080/"
        },
        "id": "IX69ntx3X2-0",
        "outputId": "ef542c65-946d-4b6b-97f9-3af3345126a6"
      },
      "source": [
        "#print article\n",
        "print(corpus)\n"
      ],
      "execution_count": 16,
      "outputs": [
        {
          "output_type": "stream",
          "text": [
            "Overview\n",
            "\n",
            "Coronavirus Open pop-up dialog box Close Coronavirus Coronavirus Coronavirus is a family of viruses that can cause respiratory illnesses such as the common cold, severe acute respiratory syndrome (SARS) and Middle East respiratory syndrome (MERS).\n",
            "\n",
            "Coronaviruses are a family of viruses that can cause illnesses such as the common cold, severe acute respiratory syndrome (SARS) and Middle East respiratory syndrome (MERS). In 2019, a new coronavirus was identified as the cause of a disease outbreak that originated in China.\n",
            "\n",
            "The virus is now known as the severe acute respiratory syndrome coronavirus 2 (SARS-CoV-2). The disease it causes is called coronavirus disease 2019 (COVID-19). In March 2020, the World Health Organization (WHO) declared the COVID-19 outbreak a pandemic.\n",
            "\n",
            "Public health groups, including the U.S. Centers for Disease Control and Prevention (CDC) and WHO , are monitoring the pandemic and posting updates on their websites. These groups have also issued recommendations for preventing and treating the illness.\n",
            "\n",
            "Symptoms\n",
            "\n",
            "Signs and symptoms of coronavirus disease 2019 (COVID-19) may appear two to 14 days after exposure. This time after exposure and before having symptoms is called the incubation period. Common signs and symptoms can include:\n",
            "\n",
            "Fever\n",
            "\n",
            "Cough\n",
            "\n",
            "Tiredness\n",
            "\n",
            "Early symptoms of COVID-19 may include a loss of taste or smell.\n",
            "\n",
            "Other symptoms can include:\n",
            "\n",
            "Shortness of breath or difficulty breathing\n",
            "\n",
            "Muscle aches\n",
            "\n",
            "Chills\n",
            "\n",
            "Sore throat\n",
            "\n",
            "Runny nose\n",
            "\n",
            "Headache\n",
            "\n",
            "Chest pain\n",
            "\n",
            "Pink eye (conjunctivitis)\n",
            "\n",
            "Nausea\n",
            "\n",
            "Vomiting\n",
            "\n",
            "Diarrhea\n",
            "\n",
            "Rash\n",
            "\n",
            "This list is not all inclusive. Children have similar symptoms to adults and generally have mild illness.\n",
            "\n",
            "The severity of COVID-19 symptoms can range from very mild to severe. Some people may have only a few symptoms, and some people may have no symptoms at all. Some people may experience worsened symptoms, such as worsened shortness of breath and pneumonia, about a week after symptoms start.\n",
            "\n",
            "People who are older have a higher risk of serious illness from COVID-19 , and the risk increases with age. People who have existing medical conditions also may have a higher risk of serious illness. Certain medical conditions that may increase the risk of serious illness from COVID-19 include:\n",
            "\n",
            "Serious heart diseases, such as heart failure, coronary artery disease or cardiomyopathy\n",
            "\n",
            "Cancer\n",
            "\n",
            "Chronic obstructive pulmonary disease (COPD)\n",
            "\n",
            "Type 1 or type 2 diabetes\n",
            "\n",
            "Overweight, obesity or severe obesity\n",
            "\n",
            "High blood pressure\n",
            "\n",
            "Smoking\n",
            "\n",
            "Chronic kidney disease\n",
            "\n",
            "Sickle cell disease or thalassemia\n",
            "\n",
            "Weakened immune system from solid organ transplants\n",
            "\n",
            "Pregnancy\n",
            "\n",
            "Asthma\n",
            "\n",
            "Chronic lung diseases such as cystic fibrosis or pulmonary fibrosis\n",
            "\n",
            "Liver disease\n",
            "\n",
            "Dementia\n",
            "\n",
            "Down syndrome\n",
            "\n",
            "Weakened immune system from bone marrow transplant, HIV or some medications\n",
            "\n",
            "Brain and nervous system conditions\n",
            "\n",
            "Substance use disorders\n",
            "\n",
            "This list is not all inclusive. Other underlying medical conditions may increase your risk of serious illness from COVID-19 .\n",
            "\n",
            "COVID-19 self-checker\n",
            "\n",
            "Assess your symptoms on CDC’s coronavirus self-checker tool and find out if you’re a candidate for a COVID-19 test.\n",
            "\n",
            "When to see a doctor\n",
            "\n",
            "If you have COVID-19 signs or symptoms or you've been in contact with someone diagnosed with COVID-19 , contact your doctor or clinic right away for medical advice. Tell your health care team about your symptoms and possible exposure before you go to your appointment.\n",
            "\n",
            "If you have emergency COVID-19 signs and symptoms, seek care immediately. Emergency signs and symptoms can include:\n",
            "\n",
            "Trouble breathing\n",
            "\n",
            "Persistent chest pain or pressure\n",
            "\n",
            "Inability to stay awake\n",
            "\n",
            "New confusion\n",
            "\n",
            "Pale, gray or blue-colored skin, lips or nail beds — depending on skin tone\n",
            "\n",
            "This list isn't all inclusive. Let your doctor know if you are an older adult or have chronic medical conditions, such as heart disease or lung disease, as you may have a greater risk of becoming seriously ill with COVID-19 . During the pandemic, it's important to make sure health care is available for those in greatest need.\n",
            "\n",
            "Causes\n",
            "\n",
            "Infection with the new coronavirus (severe acute respiratory syndrome coronavirus 2, or SARS-CoV-2) causes coronavirus disease 2019 ( COVID-19 ).\n",
            "\n",
            "The virus that causes COVID-19 spreads easily among people, and more continues to be discovered over time about how it spreads. Data has shown that it spreads mainly from person to person among those in close contact (within about 6 feet, or 2 meters). The virus spreads by respiratory droplets released when someone with the virus coughs, sneezes, breathes, sings or talks. These droplets can be inhaled or land in the mouth, nose or eyes of a person nearby.\n",
            "\n",
            "In some situations, the COVID-19 virus can spread by a person being exposed to small droplets or aerosols that stay in the air for several minutes or hours — called airborne transmission. It's not yet known how common it is for the virus to spread this way.\n",
            "\n",
            "It can also spread if a person touches a surface or object with the virus on it and then touches his or her mouth, nose or eyes, but the risk is low.\n",
            "\n",
            "Some reinfections of the virus that causes COVID-19 have happened, but these have been uncommon.\n",
            "\n",
            "Risk factors\n",
            "\n",
            "Risk factors for COVID-19 appear to include:\n",
            "\n",
            "Close contact (within 6 feet, or 2 meters) with someone who has COVID-19\n",
            "\n",
            "Being coughed or sneezed on by an infected person\n",
            "\n",
            "Complications\n",
            "\n",
            "Although most people with COVID-19 have mild to moderate symptoms, the disease can cause severe medical complications and lead to death in some people. Older adults or people with existing medical conditions are at greater risk of becoming seriously ill with COVID-19 .\n",
            "\n",
            "Complications can include:\n",
            "\n",
            "Pneumonia and trouble breathing\n",
            "\n",
            "Organ failure in several organs\n",
            "\n",
            "Heart problems\n",
            "\n",
            "A severe lung condition that causes a low amount of oxygen to go through your bloodstream to your organs (acute respiratory distress syndrome)\n",
            "\n",
            "Blood clots\n",
            "\n",
            "Acute kidney injury\n",
            "\n",
            "Additional viral and bacterial infections\n",
            "\n",
            "Prevention\n",
            "\n",
            "The U.S. Food and Drug Administration (FDA) has given emergency use authorization to some COVID-19 vaccines in the U.S. A vaccine might prevent you from getting COVID-19 or prevent you from becoming seriously ill from COVID-19 if you get the COVID-19 virus.\n",
            "\n",
            "You can take additional steps to reduce your risk of infection. WHO and CDC recommend following these precautions for avoiding exposure to the virus that causes COVID-19 :\n",
            "\n",
            "Avoid close contact (within about 6 feet, or 2 meters) with anyone who is sick or has symptoms.\n",
            "\n",
            "Keep distance between yourself and others (within about 6 feet, or 2 meters). This is especially important if you have a higher risk of serious illness. Keep in mind some people may have COVID-19 and spread it to others, even if they don't have symptoms or don't know they have COVID-19 .\n",
            "\n",
            "and spread it to others, even if they don't have symptoms or don't know they have . Avoid crowds and indoor places that have poor ventilation.\n",
            "\n",
            "Wash your hands often with soap and water for at least 20 seconds, or use an alcohol-based hand sanitizer that contains at least 60% alcohol.\n",
            "\n",
            "Wear a face mask in indoor public spaces and outdoors where there is a high risk of COVID-19 transmission, such as at a crowded event. Further mask guidance differs depending on whether you are fully vaccinated or unvaccinated. Surgical masks may be used if available. N95 respirators should be reserved for health care providers.\n",
            "\n",
            "transmission, such as at a crowded event. Further mask guidance differs depending on whether you are fully vaccinated or unvaccinated. Surgical masks may be used if available. N95 respirators should be reserved for health care providers. Cover your mouth and nose with your elbow or a tissue when you cough or sneeze. Throw away the used tissue. Wash your hands right away.\n",
            "\n",
            "Avoid touching your eyes, nose and mouth.\n",
            "\n",
            "Avoid sharing dishes, glasses, towels, bedding and other household items if you're sick.\n",
            "\n",
            "Clean and disinfect high-touch surfaces, such as doorknobs, light switches, electronics and counters, daily.\n",
            "\n",
            "Stay home from work, school and public areas if you're sick, unless you're going to get medical care. Avoid public transportation, taxis and ride-sharing if you're sick.\n",
            "\n",
            "If you have a chronic medical condition and may have a higher risk of serious illness, check with your doctor about other ways to protect yourself.\n",
            "\n",
            "Travel\n"
          ],
          "name": "stdout"
        }
      ]
    },
    {
      "cell_type": "code",
      "metadata": {
        "id": "BGPCapPQcXQ_"
      },
      "source": [
        "#Tokenization\n",
        "text=corpus\n",
        "sentence_list=nltk.sent_tokenize(text)"
      ],
      "execution_count": 17,
      "outputs": []
    },
    {
      "cell_type": "code",
      "metadata": {
        "colab": {
          "base_uri": "https://localhost:8080/"
        },
        "id": "guofd9rscuXT",
        "outputId": "f22e3b73-05ce-4098-8d02-788056187c1a"
      },
      "source": [
        "#Print sentence list\n",
        "print(sentence_list)"
      ],
      "execution_count": 18,
      "outputs": [
        {
          "output_type": "stream",
          "text": [
            "['Overview\\n\\nCoronavirus Open pop-up dialog box Close Coronavirus Coronavirus Coronavirus is a family of viruses that can cause respiratory illnesses such as the common cold, severe acute respiratory syndrome (SARS) and Middle East respiratory syndrome (MERS).', 'Coronaviruses are a family of viruses that can cause illnesses such as the common cold, severe acute respiratory syndrome (SARS) and Middle East respiratory syndrome (MERS).', 'In 2019, a new coronavirus was identified as the cause of a disease outbreak that originated in China.', 'The virus is now known as the severe acute respiratory syndrome coronavirus 2 (SARS-CoV-2).', 'The disease it causes is called coronavirus disease 2019 (COVID-19).', 'In March 2020, the World Health Organization (WHO) declared the COVID-19 outbreak a pandemic.', 'Public health groups, including the U.S. Centers for Disease Control and Prevention (CDC) and WHO , are monitoring the pandemic and posting updates on their websites.', 'These groups have also issued recommendations for preventing and treating the illness.', 'Symptoms\\n\\nSigns and symptoms of coronavirus disease 2019 (COVID-19) may appear two to 14 days after exposure.', 'This time after exposure and before having symptoms is called the incubation period.', 'Common signs and symptoms can include:\\n\\nFever\\n\\nCough\\n\\nTiredness\\n\\nEarly symptoms of COVID-19 may include a loss of taste or smell.', 'Other symptoms can include:\\n\\nShortness of breath or difficulty breathing\\n\\nMuscle aches\\n\\nChills\\n\\nSore throat\\n\\nRunny nose\\n\\nHeadache\\n\\nChest pain\\n\\nPink eye (conjunctivitis)\\n\\nNausea\\n\\nVomiting\\n\\nDiarrhea\\n\\nRash\\n\\nThis list is not all inclusive.', 'Children have similar symptoms to adults and generally have mild illness.', 'The severity of COVID-19 symptoms can range from very mild to severe.', 'Some people may have only a few symptoms, and some people may have no symptoms at all.', 'Some people may experience worsened symptoms, such as worsened shortness of breath and pneumonia, about a week after symptoms start.', 'People who are older have a higher risk of serious illness from COVID-19 , and the risk increases with age.', 'People who have existing medical conditions also may have a higher risk of serious illness.', 'Certain medical conditions that may increase the risk of serious illness from COVID-19 include:\\n\\nSerious heart diseases, such as heart failure, coronary artery disease or cardiomyopathy\\n\\nCancer\\n\\nChronic obstructive pulmonary disease (COPD)\\n\\nType 1 or type 2 diabetes\\n\\nOverweight, obesity or severe obesity\\n\\nHigh blood pressure\\n\\nSmoking\\n\\nChronic kidney disease\\n\\nSickle cell disease or thalassemia\\n\\nWeakened immune system from solid organ transplants\\n\\nPregnancy\\n\\nAsthma\\n\\nChronic lung diseases such as cystic fibrosis or pulmonary fibrosis\\n\\nLiver disease\\n\\nDementia\\n\\nDown syndrome\\n\\nWeakened immune system from bone marrow transplant, HIV or some medications\\n\\nBrain and nervous system conditions\\n\\nSubstance use disorders\\n\\nThis list is not all inclusive.', 'Other underlying medical conditions may increase your risk of serious illness from COVID-19 .', 'COVID-19 self-checker\\n\\nAssess your symptoms on CDC’s coronavirus self-checker tool and find out if you’re a candidate for a COVID-19 test.', \"When to see a doctor\\n\\nIf you have COVID-19 signs or symptoms or you've been in contact with someone diagnosed with COVID-19 , contact your doctor or clinic right away for medical advice.\", 'Tell your health care team about your symptoms and possible exposure before you go to your appointment.', 'If you have emergency COVID-19 signs and symptoms, seek care immediately.', \"Emergency signs and symptoms can include:\\n\\nTrouble breathing\\n\\nPersistent chest pain or pressure\\n\\nInability to stay awake\\n\\nNew confusion\\n\\nPale, gray or blue-colored skin, lips or nail beds — depending on skin tone\\n\\nThis list isn't all inclusive.\", 'Let your doctor know if you are an older adult or have chronic medical conditions, such as heart disease or lung disease, as you may have a greater risk of becoming seriously ill with COVID-19 .', \"During the pandemic, it's important to make sure health care is available for those in greatest need.\", 'Causes\\n\\nInfection with the new coronavirus (severe acute respiratory syndrome coronavirus 2, or SARS-CoV-2) causes coronavirus disease 2019 ( COVID-19 ).', 'The virus that causes COVID-19 spreads easily among people, and more continues to be discovered over time about how it spreads.', 'Data has shown that it spreads mainly from person to person among those in close contact (within about 6 feet, or 2 meters).', 'The virus spreads by respiratory droplets released when someone with the virus coughs, sneezes, breathes, sings or talks.', 'These droplets can be inhaled or land in the mouth, nose or eyes of a person nearby.', 'In some situations, the COVID-19 virus can spread by a person being exposed to small droplets or aerosols that stay in the air for several minutes or hours — called airborne transmission.', \"It's not yet known how common it is for the virus to spread this way.\", 'It can also spread if a person touches a surface or object with the virus on it and then touches his or her mouth, nose or eyes, but the risk is low.', 'Some reinfections of the virus that causes COVID-19 have happened, but these have been uncommon.', 'Risk factors\\n\\nRisk factors for COVID-19 appear to include:\\n\\nClose contact (within 6 feet, or 2 meters) with someone who has COVID-19\\n\\nBeing coughed or sneezed on by an infected person\\n\\nComplications\\n\\nAlthough most people with COVID-19 have mild to moderate symptoms, the disease can cause severe medical complications and lead to death in some people.', 'Older adults or people with existing medical conditions are at greater risk of becoming seriously ill with COVID-19 .', 'Complications can include:\\n\\nPneumonia and trouble breathing\\n\\nOrgan failure in several organs\\n\\nHeart problems\\n\\nA severe lung condition that causes a low amount of oxygen to go through your bloodstream to your organs (acute respiratory distress syndrome)\\n\\nBlood clots\\n\\nAcute kidney injury\\n\\nAdditional viral and bacterial infections\\n\\nPrevention\\n\\nThe U.S. Food and Drug Administration (FDA) has given emergency use authorization to some COVID-19 vaccines in the U.S. A vaccine might prevent you from getting COVID-19 or prevent you from becoming seriously ill from COVID-19 if you get the COVID-19 virus.', 'You can take additional steps to reduce your risk of infection.', 'WHO and CDC recommend following these precautions for avoiding exposure to the virus that causes COVID-19 :\\n\\nAvoid close contact (within about 6 feet, or 2 meters) with anyone who is sick or has symptoms.', 'Keep distance between yourself and others (within about 6 feet, or 2 meters).', 'This is especially important if you have a higher risk of serious illness.', \"Keep in mind some people may have COVID-19 and spread it to others, even if they don't have symptoms or don't know they have COVID-19 .\", \"and spread it to others, even if they don't have symptoms or don't know they have .\", 'Avoid crowds and indoor places that have poor ventilation.', 'Wash your hands often with soap and water for at least 20 seconds, or use an alcohol-based hand sanitizer that contains at least 60% alcohol.', 'Wear a face mask in indoor public spaces and outdoors where there is a high risk of COVID-19 transmission, such as at a crowded event.', 'Further mask guidance differs depending on whether you are fully vaccinated or unvaccinated.', 'Surgical masks may be used if available.', 'N95 respirators should be reserved for health care providers.', 'transmission, such as at a crowded event.', 'Further mask guidance differs depending on whether you are fully vaccinated or unvaccinated.', 'Surgical masks may be used if available.', 'N95 respirators should be reserved for health care providers.', 'Cover your mouth and nose with your elbow or a tissue when you cough or sneeze.', 'Throw away the used tissue.', 'Wash your hands right away.', 'Avoid touching your eyes, nose and mouth.', \"Avoid sharing dishes, glasses, towels, bedding and other household items if you're sick.\", 'Clean and disinfect high-touch surfaces, such as doorknobs, light switches, electronics and counters, daily.', \"Stay home from work, school and public areas if you're sick, unless you're going to get medical care.\", \"Avoid public transportation, taxis and ride-sharing if you're sick.\", 'If you have a chronic medical condition and may have a higher risk of serious illness, check with your doctor about other ways to protect yourself.', 'Travel']\n"
          ],
          "name": "stdout"
        }
      ]
    },
    {
      "cell_type": "code",
      "metadata": {
        "id": "jDbNP4ILdEsy"
      },
      "source": [
        "def greeting_response(text):\n",
        "\n",
        " #BOT greeting\n",
        " bot_greetings = [\"hello\", \"hi\", \"greetings\", \"Assalam-u-Alaikum\",\"sup\",\"Ramadan Mubarak!\", \"what's up\",\"hey\"]\n",
        " user_greetings=[\"hi\", \"hey\", \"*nods*\", \"hi there\", \"hello\", \"I am glad! You are talking to me\"]\n",
        " for word in text.split():\n",
        "   if word in user_greetings:\n",
        "     return random.choice(bot_greetings)"
      ],
      "execution_count": 67,
      "outputs": []
    },
    {
      "cell_type": "code",
      "metadata": {
        "id": "y61YeoOmiWK6"
      },
      "source": [
        "def index_sort(list_var):\n",
        "  length=len(list_var)\n",
        "  list_index=list(range(0,length))\n",
        "\n",
        "  x=list_var\n",
        "  for i in range (length):\n",
        "    for j in range(length):\n",
        "      if x[list_index[i]] > x[list_index[j]]:\n",
        "        temp=list_index[i]\n",
        "        list_index[i]=list_index[j]\n",
        "        list_index[j]=temp\n",
        "\n",
        "  return list_index"
      ],
      "execution_count": 69,
      "outputs": []
    },
    {
      "cell_type": "code",
      "metadata": {
        "id": "ajIeN66qgufe"
      },
      "source": [
        "def bot_response(user_input):\n",
        "  user_input= user_input.lower()\n",
        "  sentence_list.append(user_input)\n",
        "  bot_response=''\n",
        "  cm=CountVectorizer().fit_transform(sentence_list)\n",
        "  similarity_scores= cosine_similarity(cm[-1],cm)\n",
        "  similarity_scores_list=similarity_scores.flatten()\n",
        "  index=index_sort(similarity_scores_list)\n",
        "  index=index[1:]\n",
        "  response_flag = 0\n",
        "\n",
        "  j=0\n",
        "  for i in range (len(index)):\n",
        "    if similarity_scores_list[index[i]] > 0.0:\n",
        "      bot_response = bot_response+' '+sentence_list[index[i]]\n",
        "      response_flag = 1\n",
        "      j = j+1\n",
        "    if j>2:\n",
        "     break\n",
        "\n",
        "  if response_flag == 0:\n",
        "    bot_response = bot_response+' '+\"Apologies!can you elaborate it?\"\n",
        "  sentence_list.remove(user_input)\n",
        "  return bot_response"
      ],
      "execution_count": 82,
      "outputs": []
    },
    {
      "cell_type": "code",
      "metadata": {
        "colab": {
          "base_uri": "https://localhost:8080/"
        },
        "id": "pMoVEtgQquzv",
        "outputId": "813a2120-2303-4734-b235-e98884fe4d88"
      },
      "source": [
        "print(\"Hi! I am Robo, You can ask me anything realated Covid-19\")\n",
        "exit_list=['exit','see you later','ALLAH HAFIZ']\n",
        "while(True):\n",
        "  user_input = input()\n",
        "  if user_input.lower() in exit_list:\n",
        "    print('Chat with you later!')\n",
        "    break\n",
        "  else:\n",
        "    if greeting_response(user_input) != None:\n",
        "      print('Robo: '+greeting_response(user_input))\n",
        "    else:\n",
        "       print('Robo: '+bot_response(user_input))\n"
      ],
      "execution_count": 83,
      "outputs": [
        {
          "output_type": "stream",
          "text": [
            "Hi! I am Robo, You can ask me anything realated Covid-19\n",
            "hey\n",
            "Robo: hey\n",
            "tell me about corona\n",
            "Robo:  Tell your health care team about your symptoms and possible exposure before you go to your appointment. Keep distance between yourself and others (within about 6 feet, or 2 meters). Some people may experience worsened symptoms, such as worsened shortness of breath and pneumonia, about a week after symptoms start.\n",
            "symptoms\n",
            "Robo:  Symptoms\n",
            "\n",
            "Signs and symptoms of coronavirus disease 2019 (COVID-19) may appear two to 14 days after exposure. Some people may experience worsened symptoms, such as worsened shortness of breath and pneumonia, about a week after symptoms start. Some people may have only a few symptoms, and some people may have no symptoms at all.\n",
            "travel\n",
            "Robo:  travel\n",
            "is there risk of serious illness\n",
            "Robo:  This is especially important if you have a higher risk of serious illness. People who are older have a higher risk of serious illness from COVID-19 , and the risk increases with age. Other underlying medical conditions may increase your risk of serious illness from COVID-19 .\n",
            "exit\n",
            "Chat with you later!\n"
          ],
          "name": "stdout"
        }
      ]
    },
    {
      "cell_type": "code",
      "metadata": {
        "id": "29K6UWcFn5-M"
      },
      "source": [
        "  user_input = 'hello world'\n",
        "  sentence_list.append(user_input)\n",
        "  bot_response=''\n",
        "  cm=CountVectorizer().fit_transform(sentence_list)\n",
        "  similarity_scores= cosine_similarity(cm[-1],cm)\n",
        "  similarity_scores_list=similarity_scores.flatten()\n",
        "  index = index_sort(similarity_scores_list)"
      ],
      "execution_count": 42,
      "outputs": []
    },
    {
      "cell_type": "code",
      "metadata": {
        "id": "ZCmzyux8nctw"
      },
      "source": [
        ""
      ],
      "execution_count": null,
      "outputs": []
    }
  ]
}